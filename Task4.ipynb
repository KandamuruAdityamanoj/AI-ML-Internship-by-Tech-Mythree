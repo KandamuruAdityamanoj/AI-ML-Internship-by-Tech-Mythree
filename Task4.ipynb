{
  "nbformat": 4,
  "nbformat_minor": 0,
  "metadata": {
    "colab": {
      "provenance": [],
      "authorship_tag": "ABX9TyM0ui7ALZm18Du5qmxntCxM",
      "include_colab_link": true
    },
    "kernelspec": {
      "name": "python3",
      "display_name": "Python 3"
    },
    "language_info": {
      "name": "python"
    }
  },
  "cells": [
    {
      "cell_type": "markdown",
      "metadata": {
        "id": "view-in-github",
        "colab_type": "text"
      },
      "source": [
        "<a href=\"https://colab.research.google.com/github/KandamuruAdityamanoj/AI-ML-Internship-by-Tech-Mythree/blob/main/Task4.ipynb\" target=\"_parent\"><img src=\"https://colab.research.google.com/assets/colab-badge.svg\" alt=\"Open In Colab\"/></a>"
      ]
    },
    {
      "cell_type": "code",
      "execution_count": 2,
      "metadata": {
        "colab": {
          "base_uri": "https://localhost:8080/"
        },
        "id": "Puhl2e-UpS_a",
        "outputId": "14b6f79e-e60b-42e6-92da-5d14d0fba219"
      },
      "outputs": [
        {
          "output_type": "stream",
          "name": "stdout",
          "text": [
            "Mounted at /content/drive\n"
          ]
        }
      ],
      "source": [
        "from google.colab import drive\n",
        "drive.mount('/content/drive')"
      ]
    },
    {
      "cell_type": "code",
      "source": [
        "import pandas as pd\n",
        "from sklearn.model_selection import train_test_split\n",
        "from sklearn.preprocessing import OneHotEncoder, StandardScaler\n",
        "from sklearn.impute import SimpleImputer\n",
        "from sklearn.compose import ColumnTransformer\n",
        "from sklearn.pipeline import Pipeline\n",
        "from sklearn.linear_model import LinearRegression, Lasso, Ridge\n",
        "from sklearn.metrics import mean_squared_error"
      ],
      "metadata": {
        "id": "Ks-9rfT01RrO"
      },
      "execution_count": 46,
      "outputs": []
    },
    {
      "cell_type": "code",
      "source": [
        "data = pd.read_csv('/content/drive/MyDrive/AI-ML Internship/Task 4/Used Car Dataset.csv')"
      ],
      "metadata": {
        "id": "L1p3pOGi1hJD"
      },
      "execution_count": 47,
      "outputs": []
    },
    {
      "cell_type": "code",
      "source": [
        "# Display basic information about the dataset\n",
        "print(data.info())\n",
        "\n",
        "# Display the first few rows of the dataset\n",
        "print(data.head())"
      ],
      "metadata": {
        "colab": {
          "base_uri": "https://localhost:8080/"
        },
        "id": "xP6fBaCgg43K",
        "outputId": "43c7194e-0afc-411c-961f-762d7e024697"
      },
      "execution_count": 48,
      "outputs": [
        {
          "output_type": "stream",
          "name": "stdout",
          "text": [
            "<class 'pandas.core.frame.DataFrame'>\n",
            "RangeIndex: 1553 entries, 0 to 1552\n",
            "Data columns (total 15 columns):\n",
            " #   Column              Non-Null Count  Dtype  \n",
            "---  ------              --------------  -----  \n",
            " 0   Unnamed: 0          1553 non-null   int64  \n",
            " 1   car_name            1553 non-null   object \n",
            " 2   registration_year   1553 non-null   object \n",
            " 3   insurance_validity  1553 non-null   object \n",
            " 4   fuel_type           1553 non-null   object \n",
            " 5   seats               1553 non-null   int64  \n",
            " 6   kms_driven          1553 non-null   int64  \n",
            " 7   ownsership          1553 non-null   object \n",
            " 8   transmission        1553 non-null   object \n",
            " 9   manufacturing_year  1553 non-null   object \n",
            " 10  mileage(kmpl)       1550 non-null   float64\n",
            " 11  engine(cc)          1550 non-null   float64\n",
            " 12  max_power(bhp)      1550 non-null   float64\n",
            " 13  torque(Nm)          1549 non-null   float64\n",
            " 14  price(in lakhs)     1553 non-null   float64\n",
            "dtypes: float64(5), int64(3), object(7)\n",
            "memory usage: 182.1+ KB\n",
            "None\n",
            "   Unnamed: 0                                           car_name  \\\n",
            "0           0                    2017 Mercedes-Benz S-Class S400   \n",
            "1           1  2020 Nissan Magnite Turbo CVT XV Premium Opt BSVI   \n",
            "2           2                       2018 BMW X1 sDrive 20d xLine   \n",
            "3           3                           2019 Kia Seltos GTX Plus   \n",
            "4           4                    2019 Skoda Superb LK 1.8 TSI AT   \n",
            "\n",
            "  registration_year insurance_validity fuel_type  seats  kms_driven  \\\n",
            "0            Jul-17      Comprehensive    Petrol      5       56000   \n",
            "1            Jan-21      Comprehensive    Petrol      5       30615   \n",
            "2            Sep-18      Comprehensive    Diesel      5       24000   \n",
            "3            Dec-19      Comprehensive    Petrol      5       18378   \n",
            "4            Aug-19      Comprehensive    Petrol      5       44900   \n",
            "\n",
            "    ownsership transmission manufacturing_year  mileage(kmpl)  engine(cc)  \\\n",
            "0  First Owner    Automatic               2017           7.81      2996.0   \n",
            "1  First Owner    Automatic               2020          17.40       999.0   \n",
            "2  First Owner    Automatic               2018          20.68      1995.0   \n",
            "3  First Owner       Manual               2019          16.50      1353.0   \n",
            "4  First Owner    Automatic               2019          14.67      1798.0   \n",
            "\n",
            "   max_power(bhp)  torque(Nm)  price(in lakhs)  \n",
            "0          2996.0       333.0            63.75  \n",
            "1           999.0      9863.0             8.99  \n",
            "2          1995.0       188.0            23.75  \n",
            "3          1353.0     13808.0            13.56  \n",
            "4          1798.0     17746.0            24.00  \n"
          ]
        }
      ]
    },
    {
      "cell_type": "code",
      "source": [
        "# Drop the 'Name' column\n",
        "data = data.drop(columns=['car_name'])\n",
        "\n",
        "# Separate features and target variable\n",
        "X = data.drop(columns=['price(in lakhs)'])\n",
        "y = data['price(in lakhs)']"
      ],
      "metadata": {
        "id": "0wJNlQebhg1d"
      },
      "execution_count": 50,
      "outputs": []
    },
    {
      "cell_type": "code",
      "source": [
        "# Split the dataset into training and testing sets\n",
        "X_train, X_test, y_train, y_test = train_test_split(X, y, test_size=0.2, random_state=42)\n",
        "\n",
        "# Define preprocessing steps for numeric and categorical columns\n",
        "numeric_features = X_train.select_dtypes(include=['int64', 'float64']).columns\n",
        "numeric_transformer = Pipeline(steps=[\n",
        "    ('imputer', SimpleImputer(strategy='mean')),\n",
        "    ('scaler', StandardScaler())\n",
        "])\n",
        "\n",
        "preprocessor = ColumnTransformer(\n",
        "    transformers=[\n",
        "        ('num', numeric_transformer, numeric_features)\n",
        "    ])"
      ],
      "metadata": {
        "id": "omzjpyFxiOQb"
      },
      "execution_count": 51,
      "outputs": []
    },
    {
      "cell_type": "code",
      "source": [
        "# Append regression model to preprocessing pipeline\n",
        "# Linear Regression\n",
        "lr_model = Pipeline(steps=[('preprocessor', preprocessor),\n",
        "                           ('regressor', LinearRegression())])\n",
        "\n",
        "# Lasso Regression\n",
        "lasso_model = Pipeline(steps=[('preprocessor', preprocessor),\n",
        "                              ('regressor', Lasso(alpha=0.1))])\n",
        "\n",
        "# Ridge Regression\n",
        "ridge_model = Pipeline(steps=[('preprocessor', preprocessor),\n",
        "                              ('regressor', Ridge(alpha=0.1))])\n"
      ],
      "metadata": {
        "id": "1MZXnSyEiTOu"
      },
      "execution_count": 52,
      "outputs": []
    },
    {
      "cell_type": "code",
      "source": [
        "# Fit the models\n",
        "lr_model.fit(X_train, y_train)\n",
        "lasso_model.fit(X_train, y_train)\n",
        "ridge_model.fit(X_train, y_train)"
      ],
      "metadata": {
        "colab": {
          "base_uri": "https://localhost:8080/",
          "height": 225
        },
        "id": "ksXaVo42iYHP",
        "outputId": "7ad23724-0214-4e02-ca37-5780227a3b65"
      },
      "execution_count": 53,
      "outputs": [
        {
          "output_type": "execute_result",
          "data": {
            "text/plain": [
              "Pipeline(steps=[('preprocessor',\n",
              "                 ColumnTransformer(transformers=[('num',\n",
              "                                                  Pipeline(steps=[('imputer',\n",
              "                                                                   SimpleImputer()),\n",
              "                                                                  ('scaler',\n",
              "                                                                   StandardScaler())]),\n",
              "                                                  Index(['Unnamed: 0', 'seats', 'kms_driven', 'mileage(kmpl)', 'engine(cc)',\n",
              "       'max_power(bhp)', 'torque(Nm)'],\n",
              "      dtype='object'))])),\n",
              "                ('regressor', Ridge(alpha=0.1))])"
            ],
            "text/html": [
              "<style>#sk-container-id-1 {color: black;background-color: white;}#sk-container-id-1 pre{padding: 0;}#sk-container-id-1 div.sk-toggleable {background-color: white;}#sk-container-id-1 label.sk-toggleable__label {cursor: pointer;display: block;width: 100%;margin-bottom: 0;padding: 0.3em;box-sizing: border-box;text-align: center;}#sk-container-id-1 label.sk-toggleable__label-arrow:before {content: \"▸\";float: left;margin-right: 0.25em;color: #696969;}#sk-container-id-1 label.sk-toggleable__label-arrow:hover:before {color: black;}#sk-container-id-1 div.sk-estimator:hover label.sk-toggleable__label-arrow:before {color: black;}#sk-container-id-1 div.sk-toggleable__content {max-height: 0;max-width: 0;overflow: hidden;text-align: left;background-color: #f0f8ff;}#sk-container-id-1 div.sk-toggleable__content pre {margin: 0.2em;color: black;border-radius: 0.25em;background-color: #f0f8ff;}#sk-container-id-1 input.sk-toggleable__control:checked~div.sk-toggleable__content {max-height: 200px;max-width: 100%;overflow: auto;}#sk-container-id-1 input.sk-toggleable__control:checked~label.sk-toggleable__label-arrow:before {content: \"▾\";}#sk-container-id-1 div.sk-estimator input.sk-toggleable__control:checked~label.sk-toggleable__label {background-color: #d4ebff;}#sk-container-id-1 div.sk-label input.sk-toggleable__control:checked~label.sk-toggleable__label {background-color: #d4ebff;}#sk-container-id-1 input.sk-hidden--visually {border: 0;clip: rect(1px 1px 1px 1px);clip: rect(1px, 1px, 1px, 1px);height: 1px;margin: -1px;overflow: hidden;padding: 0;position: absolute;width: 1px;}#sk-container-id-1 div.sk-estimator {font-family: monospace;background-color: #f0f8ff;border: 1px dotted black;border-radius: 0.25em;box-sizing: border-box;margin-bottom: 0.5em;}#sk-container-id-1 div.sk-estimator:hover {background-color: #d4ebff;}#sk-container-id-1 div.sk-parallel-item::after {content: \"\";width: 100%;border-bottom: 1px solid gray;flex-grow: 1;}#sk-container-id-1 div.sk-label:hover label.sk-toggleable__label {background-color: #d4ebff;}#sk-container-id-1 div.sk-serial::before {content: \"\";position: absolute;border-left: 1px solid gray;box-sizing: border-box;top: 0;bottom: 0;left: 50%;z-index: 0;}#sk-container-id-1 div.sk-serial {display: flex;flex-direction: column;align-items: center;background-color: white;padding-right: 0.2em;padding-left: 0.2em;position: relative;}#sk-container-id-1 div.sk-item {position: relative;z-index: 1;}#sk-container-id-1 div.sk-parallel {display: flex;align-items: stretch;justify-content: center;background-color: white;position: relative;}#sk-container-id-1 div.sk-item::before, #sk-container-id-1 div.sk-parallel-item::before {content: \"\";position: absolute;border-left: 1px solid gray;box-sizing: border-box;top: 0;bottom: 0;left: 50%;z-index: -1;}#sk-container-id-1 div.sk-parallel-item {display: flex;flex-direction: column;z-index: 1;position: relative;background-color: white;}#sk-container-id-1 div.sk-parallel-item:first-child::after {align-self: flex-end;width: 50%;}#sk-container-id-1 div.sk-parallel-item:last-child::after {align-self: flex-start;width: 50%;}#sk-container-id-1 div.sk-parallel-item:only-child::after {width: 0;}#sk-container-id-1 div.sk-dashed-wrapped {border: 1px dashed gray;margin: 0 0.4em 0.5em 0.4em;box-sizing: border-box;padding-bottom: 0.4em;background-color: white;}#sk-container-id-1 div.sk-label label {font-family: monospace;font-weight: bold;display: inline-block;line-height: 1.2em;}#sk-container-id-1 div.sk-label-container {text-align: center;}#sk-container-id-1 div.sk-container {/* jupyter's `normalize.less` sets `[hidden] { display: none; }` but bootstrap.min.css set `[hidden] { display: none !important; }` so we also need the `!important` here to be able to override the default hidden behavior on the sphinx rendered scikit-learn.org. See: https://github.com/scikit-learn/scikit-learn/issues/21755 */display: inline-block !important;position: relative;}#sk-container-id-1 div.sk-text-repr-fallback {display: none;}</style><div id=\"sk-container-id-1\" class=\"sk-top-container\"><div class=\"sk-text-repr-fallback\"><pre>Pipeline(steps=[(&#x27;preprocessor&#x27;,\n",
              "                 ColumnTransformer(transformers=[(&#x27;num&#x27;,\n",
              "                                                  Pipeline(steps=[(&#x27;imputer&#x27;,\n",
              "                                                                   SimpleImputer()),\n",
              "                                                                  (&#x27;scaler&#x27;,\n",
              "                                                                   StandardScaler())]),\n",
              "                                                  Index([&#x27;Unnamed: 0&#x27;, &#x27;seats&#x27;, &#x27;kms_driven&#x27;, &#x27;mileage(kmpl)&#x27;, &#x27;engine(cc)&#x27;,\n",
              "       &#x27;max_power(bhp)&#x27;, &#x27;torque(Nm)&#x27;],\n",
              "      dtype=&#x27;object&#x27;))])),\n",
              "                (&#x27;regressor&#x27;, Ridge(alpha=0.1))])</pre><b>In a Jupyter environment, please rerun this cell to show the HTML representation or trust the notebook. <br />On GitHub, the HTML representation is unable to render, please try loading this page with nbviewer.org.</b></div><div class=\"sk-container\" hidden><div class=\"sk-item sk-dashed-wrapped\"><div class=\"sk-label-container\"><div class=\"sk-label sk-toggleable\"><input class=\"sk-toggleable__control sk-hidden--visually\" id=\"sk-estimator-id-1\" type=\"checkbox\" ><label for=\"sk-estimator-id-1\" class=\"sk-toggleable__label sk-toggleable__label-arrow\">Pipeline</label><div class=\"sk-toggleable__content\"><pre>Pipeline(steps=[(&#x27;preprocessor&#x27;,\n",
              "                 ColumnTransformer(transformers=[(&#x27;num&#x27;,\n",
              "                                                  Pipeline(steps=[(&#x27;imputer&#x27;,\n",
              "                                                                   SimpleImputer()),\n",
              "                                                                  (&#x27;scaler&#x27;,\n",
              "                                                                   StandardScaler())]),\n",
              "                                                  Index([&#x27;Unnamed: 0&#x27;, &#x27;seats&#x27;, &#x27;kms_driven&#x27;, &#x27;mileage(kmpl)&#x27;, &#x27;engine(cc)&#x27;,\n",
              "       &#x27;max_power(bhp)&#x27;, &#x27;torque(Nm)&#x27;],\n",
              "      dtype=&#x27;object&#x27;))])),\n",
              "                (&#x27;regressor&#x27;, Ridge(alpha=0.1))])</pre></div></div></div><div class=\"sk-serial\"><div class=\"sk-item sk-dashed-wrapped\"><div class=\"sk-label-container\"><div class=\"sk-label sk-toggleable\"><input class=\"sk-toggleable__control sk-hidden--visually\" id=\"sk-estimator-id-2\" type=\"checkbox\" ><label for=\"sk-estimator-id-2\" class=\"sk-toggleable__label sk-toggleable__label-arrow\">preprocessor: ColumnTransformer</label><div class=\"sk-toggleable__content\"><pre>ColumnTransformer(transformers=[(&#x27;num&#x27;,\n",
              "                                 Pipeline(steps=[(&#x27;imputer&#x27;, SimpleImputer()),\n",
              "                                                 (&#x27;scaler&#x27;, StandardScaler())]),\n",
              "                                 Index([&#x27;Unnamed: 0&#x27;, &#x27;seats&#x27;, &#x27;kms_driven&#x27;, &#x27;mileage(kmpl)&#x27;, &#x27;engine(cc)&#x27;,\n",
              "       &#x27;max_power(bhp)&#x27;, &#x27;torque(Nm)&#x27;],\n",
              "      dtype=&#x27;object&#x27;))])</pre></div></div></div><div class=\"sk-parallel\"><div class=\"sk-parallel-item\"><div class=\"sk-item\"><div class=\"sk-label-container\"><div class=\"sk-label sk-toggleable\"><input class=\"sk-toggleable__control sk-hidden--visually\" id=\"sk-estimator-id-3\" type=\"checkbox\" ><label for=\"sk-estimator-id-3\" class=\"sk-toggleable__label sk-toggleable__label-arrow\">num</label><div class=\"sk-toggleable__content\"><pre>Index([&#x27;Unnamed: 0&#x27;, &#x27;seats&#x27;, &#x27;kms_driven&#x27;, &#x27;mileage(kmpl)&#x27;, &#x27;engine(cc)&#x27;,\n",
              "       &#x27;max_power(bhp)&#x27;, &#x27;torque(Nm)&#x27;],\n",
              "      dtype=&#x27;object&#x27;)</pre></div></div></div><div class=\"sk-serial\"><div class=\"sk-item\"><div class=\"sk-serial\"><div class=\"sk-item\"><div class=\"sk-estimator sk-toggleable\"><input class=\"sk-toggleable__control sk-hidden--visually\" id=\"sk-estimator-id-4\" type=\"checkbox\" ><label for=\"sk-estimator-id-4\" class=\"sk-toggleable__label sk-toggleable__label-arrow\">SimpleImputer</label><div class=\"sk-toggleable__content\"><pre>SimpleImputer()</pre></div></div></div><div class=\"sk-item\"><div class=\"sk-estimator sk-toggleable\"><input class=\"sk-toggleable__control sk-hidden--visually\" id=\"sk-estimator-id-5\" type=\"checkbox\" ><label for=\"sk-estimator-id-5\" class=\"sk-toggleable__label sk-toggleable__label-arrow\">StandardScaler</label><div class=\"sk-toggleable__content\"><pre>StandardScaler()</pre></div></div></div></div></div></div></div></div></div></div><div class=\"sk-item\"><div class=\"sk-estimator sk-toggleable\"><input class=\"sk-toggleable__control sk-hidden--visually\" id=\"sk-estimator-id-6\" type=\"checkbox\" ><label for=\"sk-estimator-id-6\" class=\"sk-toggleable__label sk-toggleable__label-arrow\">Ridge</label><div class=\"sk-toggleable__content\"><pre>Ridge(alpha=0.1)</pre></div></div></div></div></div></div></div>"
            ]
          },
          "metadata": {},
          "execution_count": 53
        }
      ]
    },
    {
      "cell_type": "code",
      "source": [
        "# Make predictions\n",
        "lr_pred = lr_model.predict(X_test)\n",
        "lasso_pred = lasso_model.predict(X_test)\n",
        "ridge_pred = ridge_model.predict(X_test)"
      ],
      "metadata": {
        "id": "5rd1vneEibRU"
      },
      "execution_count": 54,
      "outputs": []
    },
    {
      "cell_type": "code",
      "source": [
        "# Calculate MSE\n",
        "lr_mse = mean_squared_error(y_test, lr_pred)\n",
        "lasso_mse = mean_squared_error(y_test, lasso_pred)\n",
        "ridge_mse = mean_squared_error(y_test, ridge_pred)"
      ],
      "metadata": {
        "id": "7w08Pq_Hid_m"
      },
      "execution_count": 55,
      "outputs": []
    },
    {
      "cell_type": "code",
      "source": [
        "print(\"Linear Regression MSE:\", lr_mse)\n",
        "print(\"Lasso Regression MSE:\", lasso_mse)\n",
        "print(\"Ridge Regression MSE:\", ridge_mse)"
      ],
      "metadata": {
        "colab": {
          "base_uri": "https://localhost:8080/"
        },
        "id": "KIFG5GVMigmu",
        "outputId": "19f46c83-5241-43d3-ab56-4948977147ab"
      },
      "execution_count": 56,
      "outputs": [
        {
          "output_type": "stream",
          "name": "stdout",
          "text": [
            "Linear Regression MSE: 29166014.976254005\n",
            "Lasso Regression MSE: 29165816.047623318\n",
            "Ridge Regression MSE: 29165991.1826362\n"
          ]
        }
      ]
    },
    {
      "cell_type": "code",
      "source": [],
      "metadata": {
        "id": "yILG5TW0ii47"
      },
      "execution_count": null,
      "outputs": []
    }
  ]
}